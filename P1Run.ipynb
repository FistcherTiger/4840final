{
 "cells": [
  {
   "cell_type": "code",
   "execution_count": 1,
   "id": "8a2c3865",
   "metadata": {},
   "outputs": [],
   "source": [
    "# Problem 1\n",
    "# Starting here is the notebook used for running\n",
    "\n",
    "import numpy as np\n",
    "import pandas as pd\n",
    "import os as os\n",
    "import glob as glob\n",
    "import csv as csv\n",
    "\n",
    "import matplotlib.pyplot as plt"
   ]
  },
  {
   "cell_type": "code",
   "execution_count": 15,
   "id": "5e29477e",
   "metadata": {},
   "outputs": [],
   "source": [
    "def matrix_factorization(M, U, V, R, steps=5000, t=0.0025, lmbda =0.25):\n",
    "    \n",
    "    # M: Rating matrix\n",
    "    # U: User features\n",
    "    # V: Movie features\n",
    "    # R: Feature dimensions\n",
    "    # steps: Iterations\n",
    "    # t: Learning rate\n",
    "    # lmbda: Regularization parameter\n",
    "    \n",
    "    # Create Mask P_Omega\n",
    "    Mask = mask_create(M)\n",
    "    \n",
    "    # Create phi_list\n",
    "    phi_list = []\n",
    "    \n",
    "    isConverged = False\n",
    "    phi_prev = -114514\n",
    "    abc = True\n",
    "    \n",
    "    # Due to excessive calculation required\n",
    "    # I set up an threshold of 0.1% change below which the phi is considered to be converged\n",
    "    \n",
    "    for step in range(steps):\n",
    "        \n",
    "        if(step % 500 == 1 and isConverged == False):\n",
    "            print(step)\n",
    "        \n",
    "        if(isConverged == False):\n",
    "            \n",
    "            # Gradient Descent Method\n",
    "            for i in range(len(M)):\n",
    "                for j in range(len(M[i])):\n",
    "                    \n",
    "                    if Mask[i][j] > 0:\n",
    "\n",
    "                        # Calculate Error here to save calculation\n",
    "                        e_ij=np.dot(U[i,:],V[:,j])-M[i][j] \n",
    "\n",
    "                        for k in range(R):\n",
    "                            # Gradient Descent\n",
    "                            U_temp=U[i][k]-t*(2*e_ij*V[k][j]+lmbda*U[i][k])\n",
    "                            V_temp=V[k][j]-t*(2*e_ij*U[i][k]+lmbda*V[k][j])\n",
    "\n",
    "                            U[i][k]=U_temp\n",
    "                            V[k][j]=V_temp\n",
    "            #Endfor\n",
    "            \n",
    "            # Calculate Phi\n",
    "            # P_Omega is applied by doing Hadamard Product btn Mask and UV-M\n",
    "\n",
    "            phi = 0.5 * (np.linalg.norm(np.multiply(Mask, (np.matmul(U,V)-M) ))**2)\n",
    "            phi = phi + lmbda * (np.linalg.norm(U)**2) + lmbda * (np.linalg.norm(V)**2)\n",
    "            \n",
    "            \n",
    "            if(abs((phi-phi_prev)/phi) > 0.00001):\n",
    "                phi_prev = phi\n",
    "                phi_list.append(phi_prev)\n",
    "            else:\n",
    "                isConverged = True\n",
    "                \n",
    "                print(\"Steps\",step,phi,phi_prev,abs((phi-phi_prev)/phi))\n",
    "                \n",
    "                phi_prev = phi\n",
    "                phi_list.append(phi_prev)\n",
    "            #Endif\n",
    "            \n",
    "        else:\n",
    "            phi_list.append(phi_prev)\n",
    "    \n",
    "    #Endfor\n",
    "\n",
    "    return U, V, phi_list"
   ]
  },
  {
   "cell_type": "code",
   "execution_count": 4,
   "id": "c72da9ef",
   "metadata": {},
   "outputs": [],
   "source": [
    "def mask_create(M):\n",
    "    \n",
    "    # Create operator P_omega which I called a \"Mask\" in this notebook\n",
    "    \n",
    "    Mask = np.zeros([len(M), len(M[0])], dtype=int)\n",
    "    for i in range(len(M)):\n",
    "        for j in range(len(M[i])):\n",
    "            if(M[i][j] != 0):\n",
    "                Mask[i][j] = 1\n",
    "    #Endfor\n",
    "    return Mask"
   ]
  },
  {
   "cell_type": "code",
   "execution_count": 3,
   "id": "317c7a9c",
   "metadata": {},
   "outputs": [],
   "source": [
    "def input_converter(users, movies, df):\n",
    "    \n",
    "    # Convert input to matrix\n",
    "    \n",
    "    M = np.zeros([users, movies])\n",
    "    for index, row in df.iterrows():\n",
    "        M[int(row['user_id'])-1][int(row['movie_id'])-1] = row['ratings']\n",
    "    #Endfor\n",
    "    return M"
   ]
  },
  {
   "cell_type": "code",
   "execution_count": 50,
   "id": "fca59a75",
   "metadata": {},
   "outputs": [],
   "source": [
    "def RMSE_M(M_original, M_predicted):\n",
    "    \n",
    "    # M_original: M data we collected\n",
    "    # M_original: M data from our calculation\n",
    "    \n",
    "    Mask = mask_create(M_original)\n",
    "    M_toCompare = np.multiply(Mask, M_predicted)\n",
    "    \n",
    "    print(\"Total Error:\", np.linalg.norm(matrix_minus(M_toCompare,M_original)))\n",
    "    #print(\"Total Number of\", np.linalg.norm(Mask)**2)\n",
    "    \n",
    "    return np.linalg.norm(matrix_minus(M_toCompare,M_original)) / np.linalg.norm(Mask)**2"
   ]
  },
  {
   "cell_type": "code",
   "execution_count": 12,
   "id": "1c411bb7",
   "metadata": {},
   "outputs": [],
   "source": [
    "def matrix_minus(A,B):\n",
    "    \n",
    "    # Orignially used to make masked deduction in RMSE calculation\n",
    "    # Idea no longer used, currently just a simple matrix element-wise minus helper\n",
    "    \n",
    "    assert len(A) == len(B)\n",
    "    assert len(A[0]) == len(B[0])\n",
    "    \n",
    "    result = np.zeros([len(A),len(A[0])])\n",
    "\n",
    "    for i in range(len(A)):\n",
    "        for j in range(len(A[0])):\n",
    "            result[i][j] = A[i][j] - B[i][j]\n",
    "    \n",
    "    return result"
   ]
  },
  {
   "cell_type": "code",
   "execution_count": 49,
   "id": "732f328f",
   "metadata": {},
   "outputs": [],
   "source": [
    "def matrix_max_diff(A,B):\n",
    "    \n",
    "    # Calculate maximum element-wise difference between predicted & collected data\n",
    "    \n",
    "    assert len(A) == len(B)\n",
    "    assert len(A[0]) == len(B[0])\n",
    "    \n",
    "    result = -114514\n",
    "\n",
    "    for i in range(len(A)):\n",
    "        for j in range(len(A[0])):\n",
    "            result = max(result, abs(A[i][j] - B[i][j]))\n",
    "    \n",
    "    print(\"Max diff is\", result)"
   ]
  },
  {
   "cell_type": "code",
   "execution_count": 10,
   "id": "41d8b05b",
   "metadata": {},
   "outputs": [],
   "source": [
    "# Save file to local for reuse in other notebooks, for testing\n",
    "def save_local(identifier):\n",
    "    if(check_duplicate(identifier) == False):\n",
    "        for i in range(len(obj_list)):\n",
    "            write_file(\"\\\\\" + identifier + str(i) + \"Obj.csv\",obj_list[i])\n",
    "            np.save(identifier + str(i) + \"M_predicted\", M_predicted_list[i])\n",
    "            np.save(identifier + str(i) + \"U\", U_list[i])\n",
    "            np.save(identifier + str(i) + \"V\", V_list[i])\n",
    "    else:\n",
    "        assert check_duplicate(identifier) == False"
   ]
  },
  {
   "cell_type": "code",
   "execution_count": 8,
   "id": "b9688a26",
   "metadata": {},
   "outputs": [],
   "source": [
    "# Helper for save_local\n",
    "def write_file(path, lst):\n",
    "    outfile = open(cwd + path,'a')\n",
    "    out = csv.writer(outfile)\n",
    "    out.writerows(map(lambda x: [x], lst))\n",
    "    outfile.close()"
   ]
  },
  {
   "cell_type": "code",
   "execution_count": 9,
   "id": "43d3a605",
   "metadata": {},
   "outputs": [],
   "source": [
    "# Helper for save_local\n",
    "def check_duplicate(identifier):\n",
    "    \n",
    "    for file in glob.glob(\"*.csv\"):\n",
    "        if file == identifier + \"0\" \"Obj.csv\":\n",
    "            return True\n",
    "    \n",
    "    return False"
   ]
  },
  {
   "cell_type": "code",
   "execution_count": 5,
   "id": "73db30bf",
   "metadata": {},
   "outputs": [],
   "source": [
    "# Problem 1\n",
    "# Initilization Starts Here\n",
    "\n",
    "'''\n",
    "WARNING !!!!!!!!!!!!!!!!! RUNNING THIS WILL CLEAR CACHE\n",
    "\n",
    "'''\n",
    "\n",
    "# Read Data and Initialize Matrix\n",
    "# 100,000 ratings (1-5) from 943 users on 1682 movies.\n",
    "# 95,000 training\n",
    "# 5,000 test\n",
    "\n",
    "#Read\n",
    "cwd = os.getcwd()\n",
    "df_train = pd.read_csv(cwd + \"\\\\Prob1_ratings.csv\", header=None, names=[\"user_id\",\"movie_id\",\"ratings\"])\n",
    "df_test = pd.read_csv(cwd + \"\\\\Prob1_ratings_test.csv\", header=None, names=[\"user_id\",\"movie_id\",\"ratings\"])\n",
    "\n",
    "# Init\n",
    "num_users = 943\n",
    "num_movies = 1682\n",
    "R = 10\n",
    "\n",
    "M_train = input_converter(num_users, num_movies , df_train)\n",
    "M_test = input_converter(num_users, num_movies , df_test)\n",
    "\n",
    "obj_list = []\n",
    "M_predicted_list = []\n",
    "U_list = []\n",
    "V_list = []"
   ]
  },
  {
   "cell_type": "code",
   "execution_count": 23,
   "id": "ea534a3e",
   "metadata": {},
   "outputs": [
    {
     "name": "stdout",
     "output_type": "stream",
     "text": [
      "1\n",
      "501\n",
      "Steps 987 31646.909575635877 31647.225599825295 9.98594155499102e-06\n",
      "1\n",
      "501\n",
      "1001\n",
      "Steps 1120 31577.94092463365 31578.2561280381 9.981759266789247e-06\n",
      "1\n",
      "501\n",
      "1001\n",
      "Steps 1010 31553.007876485655 31553.323125367286 9.991088103690098e-06\n",
      "1\n",
      "501\n",
      "1001\n",
      "Steps 1127 31572.416591258247 31572.732260952893 9.998274719763006e-06\n",
      "1\n",
      "501\n",
      "1001\n",
      "Steps 1014 31598.19537376029 31598.510786761137 9.98199413343194e-06\n",
      "1\n",
      "501\n",
      "1001\n",
      "Steps 1005 31596.283504868064 31596.599129261704 9.989288569034591e-06\n",
      "1\n",
      "501\n",
      "Steps 993 31596.21599994287 31596.53136093903 9.98097354948178e-06\n",
      "1\n",
      "501\n",
      "Steps 996 31587.10738055178 31587.423146573023 9.996674194873823e-06\n"
     ]
    }
   ],
   "source": [
    "# Run Matrix Factorization\n",
    "\n",
    "for codeRun in range(0,10):\n",
    "    \n",
    "    U = np.random.normal(0,1,(num_users,R))\n",
    "    V = np.random.normal(0,1,(R,num_movies))\n",
    "    \n",
    "    rtnU, rtnV, obj_temp = matrix_factorization(M_train, U, V, R)\n",
    "    \n",
    "    obj_list.append(obj_temp)\n",
    "    M_predicted_list.append(np.dot(rtnU, rtnV))\n",
    "    U_list.append(rtnU)\n",
    "    V_list.append(rtnV)"
   ]
  },
  {
   "cell_type": "code",
   "execution_count": 155,
   "id": "9567f188",
   "metadata": {},
   "outputs": [
    {
     "data": {
      "image/png": "[encoded data removed]",
      "text/plain": [
       "<Figure size 640x480 with 1 Axes>"
      ]
     },
     "metadata": {},
     "output_type": "display_data"
    }
   ],
   "source": [
    "for i in range(2, len(obj_list)):\n",
    "    plt.plot(obj_list[i],label=\"Run \" + str(i-2))\n",
    "    \n",
    "plt.title(\"Problem 1\")\n",
    "plt.xlabel(\"Number of Iterations\")\n",
    "plt.ylabel(\"Objective Function Value\")\n",
    "plt.legend()\n",
    "plt.show()"
   ]
  },
  {
   "cell_type": "code",
   "execution_count": 156,
   "id": "40c37a58",
   "metadata": {},
   "outputs": [
    {
     "data": {
      "image/png": "[encoded data removed]",
      "text/plain": [
       "<Figure size 640x480 with 1 Axes>"
      ]
     },
     "metadata": {},
     "output_type": "display_data"
    }
   ],
   "source": [
    "# Note that range starts from 2 as there were two test runs which occupies [0] and [1], below all follows this\n",
    "\n",
    "for i in range(2, len(obj_list)):\n",
    "    plt.plot(obj_list[i],label=\"Run \" + str(i-2))\n",
    "    \n",
    "plt.title(\"Problem 1: x in log scale\")\n",
    "plt.xlabel(\"Number of Iterations\")\n",
    "plt.ylabel(\"Objective Function Value\")\n",
    "plt.xscale(\"log\")\n",
    "plt.ylim(28000,90000)\n",
    "plt.xlim(2,5000)\n",
    "plt.legend()\n",
    "plt.show()\n"
   ]
  },
  {
   "cell_type": "code",
   "execution_count": 64,
   "id": "ff769d68",
   "metadata": {},
   "outputs": [
    {
     "name": "stdout",
     "output_type": "stream",
     "text": [
      "Run  0\n",
      "Total Error: 65.44905890205102\n",
      "0.013089811780410205\n",
      "Run  1\n",
      "Total Error: 65.80214004474978\n",
      "0.013160428008949955\n",
      "Run  2\n",
      "Total Error: 65.82481423362155\n",
      "0.013164962846724311\n",
      "Run  3\n",
      "Total Error: 65.31920710560661\n",
      "0.013063841421121321\n",
      "Run  4\n",
      "Total Error: 65.37619017555454\n",
      "0.013075238035110908\n",
      "Run  5\n",
      "Total Error: 65.37209853896124\n",
      "0.013074419707792249\n",
      "Run  6\n",
      "Total Error: 65.63666288202977\n",
      "0.013127332576405953\n",
      "Run  7\n",
      "Total Error: 65.43809510866745\n",
      "0.01308761902173349\n",
      "Run  8\n",
      "Total Error: 65.61579544395826\n",
      "0.013123159088791652\n",
      "Run  9\n",
      "Total Error: 65.36258335744206\n",
      "0.013072516671488413\n"
     ]
    }
   ],
   "source": [
    "# Batch calculation for RMSE\n",
    "\n",
    "RMSE_list = []\n",
    "\n",
    "for i in range(2, len(obj_list)):\n",
    "    print(\"Run \", str(i-2))\n",
    "    RMSE_temp = RMSE_M(M_test,M_predicted_list[i])\n",
    "    print(RMSE_temp)\n",
    "    RMSE_list.append(RMSE_temp)"
   ]
  },
  {
   "cell_type": "code",
   "execution_count": 65,
   "id": "bfb40a3e",
   "metadata": {},
   "outputs": [
    {
     "data": {
      "text/html": [
       "<div>\n",
       "<style scoped>\n",
       "    .dataframe tbody tr th:only-of-type {\n",
       "        vertical-align: middle;\n",
       "    }\n",
       "\n",
       "    .dataframe tbody tr th {\n",
       "        vertical-align: top;\n",
       "    }\n",
       "\n",
       "    .dataframe thead th {\n",
       "        text-align: right;\n",
       "    }\n",
       "</style>\n",
       "<table border=\"1\" class=\"dataframe\">\n",
       "  <thead>\n",
       "    <tr style=\"text-align: right;\">\n",
       "      <th></th>\n",
       "      <th>Objective Function</th>\n",
       "      <th>RMSE</th>\n",
       "    </tr>\n",
       "  </thead>\n",
       "  <tbody>\n",
       "    <tr>\n",
       "      <th>2</th>\n",
       "      <td>31646.909576</td>\n",
       "      <td>0.013165</td>\n",
       "    </tr>\n",
       "    <tr>\n",
       "      <th>1</th>\n",
       "      <td>31641.503281</td>\n",
       "      <td>0.013160</td>\n",
       "    </tr>\n",
       "    <tr>\n",
       "      <th>0</th>\n",
       "      <td>31621.454908</td>\n",
       "      <td>0.013090</td>\n",
       "    </tr>\n",
       "    <tr>\n",
       "      <th>6</th>\n",
       "      <td>31598.195374</td>\n",
       "      <td>0.013127</td>\n",
       "    </tr>\n",
       "    <tr>\n",
       "      <th>7</th>\n",
       "      <td>31596.283505</td>\n",
       "      <td>0.013088</td>\n",
       "    </tr>\n",
       "    <tr>\n",
       "      <th>8</th>\n",
       "      <td>31596.216000</td>\n",
       "      <td>0.013123</td>\n",
       "    </tr>\n",
       "    <tr>\n",
       "      <th>9</th>\n",
       "      <td>31587.107381</td>\n",
       "      <td>0.013073</td>\n",
       "    </tr>\n",
       "    <tr>\n",
       "      <th>3</th>\n",
       "      <td>31577.940925</td>\n",
       "      <td>0.013064</td>\n",
       "    </tr>\n",
       "    <tr>\n",
       "      <th>5</th>\n",
       "      <td>31572.416591</td>\n",
       "      <td>0.013074</td>\n",
       "    </tr>\n",
       "    <tr>\n",
       "      <th>4</th>\n",
       "      <td>31553.007876</td>\n",
       "      <td>0.013075</td>\n",
       "    </tr>\n",
       "  </tbody>\n",
       "</table>\n",
       "</div>"
      ],
      "text/plain": [
       "   Objective Function      RMSE\n",
       "2        31646.909576  0.013165\n",
       "1        31641.503281  0.013160\n",
       "0        31621.454908  0.013090\n",
       "6        31598.195374  0.013127\n",
       "7        31596.283505  0.013088\n",
       "8        31596.216000  0.013123\n",
       "9        31587.107381  0.013073\n",
       "3        31577.940925  0.013064\n",
       "5        31572.416591  0.013074\n",
       "4        31553.007876  0.013075"
      ]
     },
     "execution_count": 65,
     "metadata": {},
     "output_type": "execute_result"
    }
   ],
   "source": [
    "# Add last objective function and plot table\n",
    "\n",
    "converged_obj_function = []\n",
    "for i in range(2,len(obj_list)):\n",
    "    converged_obj_function.append(obj_list[i][-1])\n",
    "#Endfor\n",
    "\n",
    "tbl = pd.DataFrame({\"Objective Function\":converged_obj_function,\"RMSE\":RMSE_list})\n",
    "tbl.sort_values(\"Objective Function\",ascending=False)"
   ]
  },
  {
   "cell_type": "code",
   "execution_count": null,
   "id": "09adb9dd",
   "metadata": {},
   "outputs": [],
   "source": [
    "# Problem 2"
   ]
  },
  {
   "cell_type": "code",
   "execution_count": 85,
   "id": "e4258bb9",
   "metadata": {},
   "outputs": [],
   "source": [
    "movie_indicies = list(range(0,num_movies))\n",
    "movie_names = []"
   ]
  },
  {
   "cell_type": "code",
   "execution_count": 86,
   "id": "b29954fa",
   "metadata": {},
   "outputs": [],
   "source": [
    "f = open(\"Prob1_movies.txt\",\"r\")\n",
    "\n",
    "for line in f:\n",
    "    movie_names.append(line.strip())\n",
    "#Endfor"
   ]
  },
  {
   "cell_type": "code",
   "execution_count": 87,
   "id": "75b0cd24",
   "metadata": {},
   "outputs": [
    {
     "name": "stdout",
     "output_type": "stream",
     "text": [
      "      Movie Index                                       Name\n",
      "0               0                           Toy Story (1995)\n",
      "1               1                           GoldenEye (1995)\n",
      "2               2                          Four Rooms (1995)\n",
      "3               3                          Get Shorty (1995)\n",
      "4               4                             Copycat (1995)\n",
      "...           ...                                        ...\n",
      "1677         1677                          Mat' i syn (1997)\n",
      "1678         1678                           B. Monkey (1998)\n",
      "1679         1679                       Sliding Doors (1998)\n",
      "1680         1680                        You So Crazy (1994)\n",
      "1681         1681  Scream of Stone (Schrei aus Stein) (1991)\n",
      "\n",
      "[1682 rows x 2 columns]\n"
     ]
    }
   ],
   "source": [
    "tbl_movies = pd.DataFrame({\"Movie Index\":movie_indicies,\"Name\":movie_names})\n",
    "print(tbl_movies)"
   ]
  },
  {
   "cell_type": "code",
   "execution_count": 94,
   "id": "0c2f097d",
   "metadata": {},
   "outputs": [
    {
     "name": "stdout",
     "output_type": "stream",
     "text": [
      "    Movie Index              Name\n",
      "49           49  Star Wars (1977)\n",
      "     Movie Index                 Name\n",
      "484          484  My Fair Lady (1964)\n",
      "     Movie Index               Name\n",
      "181          181  GoodFellas (1990)\n"
     ]
    }
   ],
   "source": [
    "print(tbl_movies.loc[tbl_movies['Name'].str.contains(\"Star Wars\")])\n",
    "print(tbl_movies.loc[tbl_movies['Name'].str.contains(\"My Fair Lady\")])\n",
    "print(tbl_movies.loc[tbl_movies['Name'].str.contains(\"GoodFellas\")])\n",
    "\n",
    "# Search Result:\n",
    "'''\n",
    "    Movie Index              Name\n",
    "49           49  Star Wars (1977)\n",
    "     Movie Index                 Name\n",
    "484          484  My Fair Lady (1964)\n",
    "     Movie Index               Name\n",
    "181          181  GoodFellas (1990)\n",
    "'''"
   ]
  },
  {
   "cell_type": "code",
   "execution_count": 113,
   "id": "453b48ab",
   "metadata": {},
   "outputs": [],
   "source": [
    "# Run 4 has lowest objective value\n",
    "# Which transfers to obj_list[6]\n",
    "\n",
    "# Search Result:\n",
    "'''\n",
    "    Movie Index              Name\n",
    "49           49  Star Wars (1977)\n",
    "     Movie Index                 Name\n",
    "484          484  My Fair Lady (1964)\n",
    "     Movie Index               Name\n",
    "181          181  GoodFellas (1990)\n",
    "'''\n",
    "\n",
    "similar_movies_list = []\n",
    "distance_list = []\n",
    "\n",
    "V_Matrix = np.array(V_list[6])\n",
    "V_matrix = V_Matrix.T"
   ]
  },
  {
   "cell_type": "code",
   "execution_count": 112,
   "id": "640d9ea4",
   "metadata": {},
   "outputs": [
    {
     "name": "stdout",
     "output_type": "stream",
     "text": [
      "[ 0.43761644  1.05898634 -0.12502944 -0.38881811  0.13551194  0.07801073\n",
      " -0.43641462  0.04587287 -0.03451217  0.10959487]\n"
     ]
    }
   ],
   "source": [
    "star_war_vector = V_matrix[49]\n",
    "fair_lad_vector = V_matrix[484]\n",
    "good_fel_vector = V_matrix[181]"
   ]
  },
  {
   "cell_type": "code",
   "execution_count": 131,
   "id": "518f59d3",
   "metadata": {},
   "outputs": [],
   "source": [
    "check_list = [\"Star Wars (1977)\", \"My Fair Lady (1964)\", \"GoodFellas (1990)\"]\n",
    "check_index = [49,484,181]\n",
    "distance_list_all = []"
   ]
  },
  {
   "cell_type": "code",
   "execution_count": 132,
   "id": "1c2efaad",
   "metadata": {},
   "outputs": [],
   "source": [
    "for i in range(0,3):\n",
    "    distance_temp_list = []\n",
    "    for j in range(0,num_movies):\n",
    "        distance_temp_list.append(np.linalg.norm(V_matrix[check_index[i]] - V_matrix[j]))\n",
    "    #Endfor\n",
    "    distance_list_all.append(distance_temp_list)\n",
    "    "
   ]
  },
  {
   "cell_type": "code",
   "execution_count": 134,
   "id": "e42c30f3",
   "metadata": {},
   "outputs": [],
   "source": [
    "tbl_movies['Star Wars (1977)'] = distance_list_all[0]\n",
    "tbl_movies['My Fair Lady (1964)'] = distance_list_all[1]\n",
    "tbl_movies['GoodFellas (1990)'] = distance_list_all[2]"
   ]
  },
  {
   "cell_type": "code",
   "execution_count": 149,
   "id": "3e02ed1e",
   "metadata": {},
   "outputs": [
    {
     "name": "stdout",
     "output_type": "stream",
     "text": [
      "                                          Name  Distance\n",
      "49                            Star Wars (1977)  0.000000\n",
      "171            Empire Strikes Back, The (1980)  0.248505\n",
      "173             Raiders of the Lost Ark (1981)  0.358180\n",
      "172                 Princess Bride, The (1987)  0.516845\n",
      "180                  Return of the Jedi (1983)  0.566875\n",
      "11                  Usual Suspects, The (1995)  0.734865\n",
      "209  Indiana Jones and the Last Crusade (1989)  0.758822\n",
      "193                          Sting, The (1973)  0.768163\n",
      "301                   L.A. Confidential (1997)  0.768524\n",
      "519                   Great Escape, The (1963)  0.786807\n",
      "95           Terminator 2: Judgment Day (1991)  0.792287\n"
     ]
    }
   ],
   "source": [
    "df_temp = tbl_movies.sort_values(\"Star Wars (1977)\",ascending=True)\n",
    "df_star_war = df_temp[0:11][['Name', 'Star Wars (1977)']]             # Itself + 10 cloeset\n",
    "df_star_war.rename(columns={'Star Wars (1977)': 'Distance'}, inplace=True)\n",
    "print(df_star_war)"
   ]
  },
  {
   "cell_type": "code",
   "execution_count": 150,
   "id": "a5cc0bc6",
   "metadata": {},
   "outputs": [
    {
     "name": "stdout",
     "output_type": "stream",
     "text": [
      "                                Name  Distance\n",
      "484              My Fair Lady (1964)  0.000000\n",
      "485                   Sabrina (1954)  0.465578\n",
      "418              Mary Poppins (1964)  0.545976\n",
      "587      Beauty and the Beast (1991)  0.556490\n",
      "958        Dazed and Confused (1993)  0.590211\n",
      "142       Sound of Music, The (1965)  0.599565\n",
      "282                      Emma (1996)  0.601937\n",
      "215   When Harry Met Sally... (1989)  0.610156\n",
      "1285          Shall We Dance? (1937)  0.624500\n",
      "303             Fly Away Home (1996)  0.632423\n",
      "132        Gone with the Wind (1939)  0.654929\n"
     ]
    }
   ],
   "source": [
    "df_temp = tbl_movies.sort_values('My Fair Lady (1964)',ascending=True)\n",
    "df_fair_ldy = df_temp[0:11][['Name', 'My Fair Lady (1964)']]             # Itself + 10 cloeset\n",
    "df_fair_ldy.rename(columns={'My Fair Lady (1964)': 'Distance'}, inplace=True)\n",
    "print(df_fair_ldy)"
   ]
  },
  {
   "cell_type": "code",
   "execution_count": 151,
   "id": "1875873d",
   "metadata": {},
   "outputs": [
    {
     "name": "stdout",
     "output_type": "stream",
     "text": [
      "                                       Name  Distance\n",
      "181                       GoodFellas (1990)  0.000000\n",
      "503                 Bonnie and Clyde (1967)  0.397596\n",
      "176  Good, The Bad and The Ugly, The (1966)  0.405351\n",
      "645     Once Upon a Time in the West (1969)  0.412459\n",
      "692                           Casino (1995)  0.431626\n",
      "187                Full Metal Jacket (1987)  0.444382\n",
      "199                     Shining, The (1980)  0.467131\n",
      "179                   Apocalypse Now (1979)  0.487876\n",
      "522                   Cool Hand Luke (1967)  0.501865\n",
      "134            2001: A Space Odyssey (1968)  0.506247\n",
      "184                           Psycho (1960)  0.518744\n"
     ]
    }
   ],
   "source": [
    "df_temp = tbl_movies.sort_values('GoodFellas (1990)',ascending=True)\n",
    "df_good_fel = df_temp[0:11][['Name', 'GoodFellas (1990)']]             # Itself + 10 cloeset\n",
    "df_good_fel.rename(columns={'GoodFellas (1990)': 'Distance'}, inplace=True)\n",
    "print(df_good_fel)"
   ]
  }
 ],
 "metadata": {
  "kernelspec": {
   "display_name": "Python 3 (ipykernel)",
   "language": "python",
   "name": "python3"
  },
  "language_info": {
   "codemirror_mode": {
    "name": "ipython",
    "version": 3
   },
   "file_extension": ".py",
   "mimetype": "text/x-python",
   "name": "python",
   "nbconvert_exporter": "python",
   "pygments_lexer": "ipython3",
   "version": "3.10.6"
  }
 },
 "nbformat": 4,
 "nbformat_minor": 5
}
