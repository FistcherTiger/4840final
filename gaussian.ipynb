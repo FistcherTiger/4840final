{
 "cells": [
  {
   "cell_type": "code",
   "execution_count": 1,
   "id": "baa9fcd3",
   "metadata": {},
   "outputs": [],
   "source": [
    "# Problem 3"
   ]
  },
  {
   "cell_type": "code",
   "execution_count": 2,
   "id": "0d5ce18c",
   "metadata": {},
   "outputs": [],
   "source": [
    "# Import Libs\n",
    "import numpy as np\n",
    "import pandas as pd\n",
    "import os as os\n",
    "import math as math\n",
    "import matplotlib.pyplot as plt\n",
    "\n",
    "from IPython.display import display, HTML"
   ]
  },
  {
   "cell_type": "code",
   "execution_count": 3,
   "id": "3f6f4099",
   "metadata": {},
   "outputs": [],
   "source": [
    "# Read Data\n",
    "cwd = os.getcwd()\n",
    "X_train = pd.read_csv(cwd + \"\\X_train.csv\", header = None).values\n",
    "y_train = pd.read_csv(cwd + \"\\y_train.csv\", header = None).values\n",
    "X_test = pd.read_csv(cwd + \"\\X_test.csv\", header = None).values\n",
    "y_test = pd.read_csv(cwd + \"\\y_test.csv\", header = None).values"
   ]
  },
  {
   "cell_type": "code",
   "execution_count": 4,
   "id": "de78cd7d",
   "metadata": {},
   "outputs": [],
   "source": [
    "# Problem 3.1\n",
    "# Class for Gaussian Process\n",
    "class Gaussian_Process:\n",
    "    def __init__(self,X_train,y_train, sigma2, b):\n",
    "        # Train Data\n",
    "        self.X_train = X_train\n",
    "        self.y_train = y_train\n",
    "        # Variance σ^2\n",
    "        self.sigma2 = sigma2\n",
    "        # Kernel Width b\n",
    "        self.b = b\n",
    "        # Kernel Matrix K_n\n",
    "        # self.Kn = self.ComputeKn()\n",
    "        self.Kn = []\n",
    "        \n",
    "    def Kernel(self,xi,xj):\n",
    "        # Compute K(xi,xj)\n",
    "        return math.exp((-1 / self.b) * np.sum((xi -xj)**2))\n",
    "    \n",
    "    def ComputeKn(self):\n",
    "        # Calculate K_n given train data set X\n",
    "        temp_K = []\n",
    "        for i in self.X_train:\n",
    "            temp = []\n",
    "            for j in self.X_train:\n",
    "                temp.append(self.Kernel(i,j))\n",
    "            #Endfor\n",
    "            temp_K.append(temp)\n",
    "        #Endfor\n",
    "        \n",
    "        # Update K_n\n",
    "        self.Kn = np.asarray(temp_K)\n",
    "        \n",
    "    def Predict(self,x0):\n",
    "        \n",
    "        # Compute K(x0,D)\n",
    "        temp = []\n",
    "        for j in self.X_train:\n",
    "            temp.append(self.Kernel(x0,j))\n",
    "        #Endfor\n",
    "        K_xD = np.asarray(temp)\n",
    "        \n",
    "        # Compute σ^2*I\n",
    "        sigma2I = self.sigma2 * np.identity(self.Kn.shape[0])\n",
    "        \n",
    "        # Compute K(x0,D)*(σ^2*I + Kn)^-1\n",
    "        K_SigKn_Inverse = np.matmul(K_xD, np.linalg.inv(sigma2I + self.Kn))\n",
    "        \n",
    "        # µ = K(x0,D)*(σ^2*I + Kn)^-1 * y\n",
    "        mean = (np.matmul(K_SigKn_Inverse, self.y_train))[0]\n",
    "        \n",
    "        # σ0^2 = σ^2 + K(x0,x0) - K(x0,D)*(σ^2*I + Kn)^-1 * K(x0,D)^T\n",
    "        variance = self.sigma2 + self.Kernel(x0,x0) + np.matmul(K_SigKn_Inverse, np.transpose(K_xD))\n",
    "        \n",
    "        return [mean,variance]"
   ]
  },
  {
   "cell_type": "code",
   "execution_count": 5,
   "id": "acb48c49",
   "metadata": {},
   "outputs": [],
   "source": [
    "# Problem 3.2\n",
    "# It is convenient to write a RMSE fucntion for lists\n",
    "\n",
    "def RMSE(y_predicted,y_test):\n",
    "    # Arrayfy\n",
    "    y_predicted = np.array(y_predicted)\n",
    "    y_test = np.array(y_test)\n",
    "    return np.sqrt(np.mean(np.square(y_predicted - y_test)))"
   ]
  },
  {
   "cell_type": "code",
   "execution_count": 6,
   "id": "d5b4ffd9",
   "metadata": {},
   "outputs": [],
   "source": [
    "# Init Question Variable\n",
    "b_list = [5, 7, 9, 11, 13, 15]\n",
    "sigma2_list = [0.1, 0.2, 0.3, 0.4, 0.5, 0.6, 0.7, 0.8, 0.9, 1]"
   ]
  },
  {
   "cell_type": "code",
   "execution_count": 7,
   "id": "1c206a8a",
   "metadata": {},
   "outputs": [],
   "source": [
    "# Init\n",
    "RMSE_list = [] # len(b_list) * len(sigma2_list) matrix\n",
    "y_test = [i[0] for i in y_test] # Reshape\n",
    "\n",
    "for b in b_list:\n",
    "    \n",
    "    RMSE_list_temp = [] \n",
    "    \n",
    "    for sigma2 in sigma2_list:\n",
    "        \n",
    "        # Init Gaussian\n",
    "        Gaussian = Gaussian_Process(X_train, y_train, sigma2 = sigma2, b = b)\n",
    "        Gaussian.ComputeKn() # Weird exception if called in constructor\n",
    "        # Buffer\n",
    "        y_predicted = []\n",
    "        \n",
    "        for i in X_test:\n",
    "            y_predicted.append(Gaussian.Predict(i)[0]) # Only need mean here, as stated in question\n",
    "        #Endfor\n",
    "        \n",
    "        RMSE_list_temp.append(RMSE(y_predicted,y_test))\n",
    "     \n",
    "    #Endfor   \n",
    "    \n",
    "    RMSE_list.append(RMSE_list_temp)\n",
    "\n",
    "#Endfor"
   ]
  },
  {
   "cell_type": "code",
   "execution_count": 8,
   "id": "79bd901f",
   "metadata": {},
   "outputs": [
    {
     "data": {
      "text/html": [
       "<div>\n",
       "<style scoped>\n",
       "    .dataframe tbody tr th:only-of-type {\n",
       "        vertical-align: middle;\n",
       "    }\n",
       "\n",
       "    .dataframe tbody tr th {\n",
       "        vertical-align: top;\n",
       "    }\n",
       "\n",
       "    .dataframe thead th {\n",
       "        text-align: right;\n",
       "    }\n",
       "</style>\n",
       "<table border=\"1\" class=\"dataframe\">\n",
       "  <thead>\n",
       "    <tr style=\"text-align: right;\">\n",
       "      <th>b\\σ^2</th>\n",
       "      <th>0.1</th>\n",
       "      <th>0.2</th>\n",
       "      <th>0.3</th>\n",
       "      <th>0.4</th>\n",
       "      <th>0.5</th>\n",
       "      <th>0.6</th>\n",
       "      <th>0.7</th>\n",
       "      <th>0.8</th>\n",
       "      <th>0.9</th>\n",
       "      <th>1.0</th>\n",
       "    </tr>\n",
       "  </thead>\n",
       "  <tbody>\n",
       "    <tr>\n",
       "      <th>5</th>\n",
       "      <td>1.966277</td>\n",
       "      <td>1.933137</td>\n",
       "      <td>1.923422</td>\n",
       "      <td>1.922199</td>\n",
       "      <td>1.924771</td>\n",
       "      <td>1.929215</td>\n",
       "      <td>1.934636</td>\n",
       "      <td>1.940585</td>\n",
       "      <td>1.946822</td>\n",
       "      <td>1.953215</td>\n",
       "    </tr>\n",
       "    <tr>\n",
       "      <th>7</th>\n",
       "      <td>1.920164</td>\n",
       "      <td>1.904878</td>\n",
       "      <td>1.908082</td>\n",
       "      <td>1.915904</td>\n",
       "      <td>1.924806</td>\n",
       "      <td>1.933704</td>\n",
       "      <td>1.942256</td>\n",
       "      <td>1.950382</td>\n",
       "      <td>1.958095</td>\n",
       "      <td>1.965440</td>\n",
       "    </tr>\n",
       "    <tr>\n",
       "      <th>9</th>\n",
       "      <td>1.897650</td>\n",
       "      <td>1.902521</td>\n",
       "      <td>1.917650</td>\n",
       "      <td>1.932517</td>\n",
       "      <td>1.945702</td>\n",
       "      <td>1.957237</td>\n",
       "      <td>1.967406</td>\n",
       "      <td>1.976494</td>\n",
       "      <td>1.984743</td>\n",
       "      <td>1.992344</td>\n",
       "    </tr>\n",
       "    <tr>\n",
       "      <th>11</th>\n",
       "      <td>1.890509</td>\n",
       "      <td>1.914983</td>\n",
       "      <td>1.938851</td>\n",
       "      <td>1.957939</td>\n",
       "      <td>1.973218</td>\n",
       "      <td>1.985767</td>\n",
       "      <td>1.996378</td>\n",
       "      <td>2.005606</td>\n",
       "      <td>2.013838</td>\n",
       "      <td>2.021347</td>\n",
       "    </tr>\n",
       "    <tr>\n",
       "      <th>13</th>\n",
       "      <td>1.895850</td>\n",
       "      <td>1.935588</td>\n",
       "      <td>1.964600</td>\n",
       "      <td>1.985504</td>\n",
       "      <td>2.001317</td>\n",
       "      <td>2.013881</td>\n",
       "      <td>2.024313</td>\n",
       "      <td>2.033309</td>\n",
       "      <td>2.041320</td>\n",
       "      <td>2.048644</td>\n",
       "    </tr>\n",
       "    <tr>\n",
       "      <th>15</th>\n",
       "      <td>1.909605</td>\n",
       "      <td>1.959551</td>\n",
       "      <td>1.990806</td>\n",
       "      <td>2.011918</td>\n",
       "      <td>2.027373</td>\n",
       "      <td>2.039467</td>\n",
       "      <td>2.049466</td>\n",
       "      <td>2.058107</td>\n",
       "      <td>2.065847</td>\n",
       "      <td>2.072978</td>\n",
       "    </tr>\n",
       "  </tbody>\n",
       "</table>\n",
       "</div>"
      ],
      "text/plain": [
       "b\\σ^2       0.1       0.2       0.3       0.4       0.5       0.6       0.7  \\\n",
       "5      1.966277  1.933137  1.923422  1.922199  1.924771  1.929215  1.934636   \n",
       "7      1.920164  1.904878  1.908082  1.915904  1.924806  1.933704  1.942256   \n",
       "9      1.897650  1.902521  1.917650  1.932517  1.945702  1.957237  1.967406   \n",
       "11     1.890509  1.914983  1.938851  1.957939  1.973218  1.985767  1.996378   \n",
       "13     1.895850  1.935588  1.964600  1.985504  2.001317  2.013881  2.024313   \n",
       "15     1.909605  1.959551  1.990806  2.011918  2.027373  2.039467  2.049466   \n",
       "\n",
       "b\\σ^2       0.8       0.9       1.0  \n",
       "5      1.940585  1.946822  1.953215  \n",
       "7      1.950382  1.958095  1.965440  \n",
       "9      1.976494  1.984743  1.992344  \n",
       "11     2.005606  2.013838  2.021347  \n",
       "13     2.033309  2.041320  2.048644  \n",
       "15     2.058107  2.065847  2.072978  "
      ]
     },
     "metadata": {},
     "output_type": "display_data"
    }
   ],
   "source": [
    "# Display RMSE Table\n",
    "PD_RMSE = pd.DataFrame(RMSE_list, columns = pd.Index(sigma2_list, name = \"b\\σ^2\"), index = b_list)\n",
    "display(PD_RMSE)"
   ]
  },
  {
   "cell_type": "code",
   "execution_count": 9,
   "id": "117a8aa2",
   "metadata": {},
   "outputs": [
    {
     "data": {
      "text/plain": [
       "1.8905087802491962"
      ]
     },
     "metadata": {},
     "output_type": "display_data"
    }
   ],
   "source": [
    "# Find min\n",
    "cur_min = RMSE_list[0][0]\n",
    "for rmserow in RMSE_list:\n",
    "    for rmse in rmserow:\n",
    "        if(rmse < cur_min):\n",
    "            cur_min = rmse\n",
    "            \n",
    "display(cur_min)"
   ]
  },
  {
   "cell_type": "code",
   "execution_count": 10,
   "id": "934854ce",
   "metadata": {},
   "outputs": [],
   "source": [
    "# Problem 3.4\n",
    "\n",
    "# Read Data\n",
    "cwd = os.getcwd()\n",
    "X_train = pd.read_csv(cwd + \"\\X_train.csv\", header = None).values\n",
    "y_train = pd.read_csv(cwd + \"\\y_train.csv\", header = None).values\n",
    "X_test = pd.read_csv(cwd + \"\\X_test.csv\", header = None).values\n",
    "y_test = pd.read_csv(cwd + \"\\y_test.csv\", header = None).values\n",
    "\n",
    "# Init train data, test data, sigma2 and b specific to this problem\n",
    "X_train_carweight = X_train[:,3]\n",
    "X_test_carweight = X_test[:,3]\n",
    "b_carweight = 5\n",
    "sigma2_carweight = 2"
   ]
  },
  {
   "cell_type": "code",
   "execution_count": 11,
   "id": "c7abc5df",
   "metadata": {},
   "outputs": [],
   "source": [
    "y_predicted_carweight = []\n",
    "\n",
    "# Same Gaussian Process\n",
    "Gaussian_carweight = Gaussian_Process(X_train_carweight, y_train,sigma2 = sigma2_carweight, b = b_carweight)\n",
    "Gaussian_carweight.ComputeKn()\n",
    "\n",
    "for i in X_train_carweight:\n",
    "    y_predicted_carweight.append(Gaussian_carweight.Predict(i)[0])\n",
    "#Endfor"
   ]
  },
  {
   "cell_type": "code",
   "execution_count": 12,
   "id": "e344ded4",
   "metadata": {},
   "outputs": [],
   "source": [
    "# Reshape\n",
    "y_train_array = [i[0] for i in y_train]\n",
    "X_train_carweight = list(X_train_carweight)"
   ]
  },
  {
   "cell_type": "code",
   "execution_count": 13,
   "id": "816af18d",
   "metadata": {},
   "outputs": [
    {
     "data": {
      "image/png": "[encoded data removed]",
      "text/plain": [
       "<Figure size 640x480 with 1 Axes>"
      ]
     },
     "metadata": {},
     "output_type": "display_data"
    }
   ],
   "source": [
    "# Plot\n",
    "# Sort predicted mile per gallon in corresponding carweight\n",
    "scatter_y = [i for i,_ in sorted(zip(y_predicted_carweight, X_train_carweight), key = lambda pair: pair[1])]\n",
    "\n",
    "plt.figure()\n",
    "plt.scatter(X_train_carweight, y_train, label = \"Value Used for Training\", s = 10)\n",
    "plt.plot(sorted(X_train_carweight), scatter_y, color = \"red\", linewidth = 3.0, label = \"Predicted Values\")\n",
    "plt.xlabel(\"Car Weight\")\n",
    "plt.ylabel(\"Miles Per Gallon\")\n",
    "plt.legend()\n",
    "plt.show()"
   ]
  }
 ],
 "metadata": {
  "kernelspec": {
   "display_name": "Python 3 (ipykernel)",
   "language": "python",
   "name": "python3"
  },
  "language_info": {
   "codemirror_mode": {
    "name": "ipython",
    "version": 3
   },
   "file_extension": ".py",
   "mimetype": "text/x-python",
   "name": "python",
   "nbconvert_exporter": "python",
   "pygments_lexer": "ipython3",
   "version": "3.10.6"
  }
 },
 "nbformat": 4,
 "nbformat_minor": 5
}
